{
 "cells": [
  {
   "cell_type": "code",
   "execution_count": 1,
   "metadata": {},
   "outputs": [],
   "source": [
    "import pandas as pd\n",
    "import numpy as np\n",
    "import datetime as dt\n",
    "import matplotlib.pyplot as plt"
   ]
  },
  {
   "cell_type": "code",
   "execution_count": 4,
   "metadata": {},
   "outputs": [],
   "source": [
    "# Define parameters for simulation\n",
    "P_MAX = 100\n",
    "P_MIN = 20\n",
    "K = 5 # number of areas for creating price ranges"
   ]
  },
  {
   "cell_type": "code",
   "execution_count": null,
   "metadata": {},
   "outputs": [],
   "source": [
    "# First focus on single product case\n",
    "# Demand is generated from a poisson process with a mean equal to that\n",
    "# predicted by a linear demand curve"
   ]
  },
  {
   "cell_type": "code",
   "execution_count": 5,
   "metadata": {},
   "outputs": [
    {
     "data": {
      "text/plain": [
       "0.8"
      ]
     },
     "execution_count": 5,
     "metadata": {},
     "output_type": "execute_result"
    }
   ],
   "source": [
    "theta_max = 1-P_MIN/P_MAX # Maximum discount allowed\n"
   ]
  },
  {
   "cell_type": "code",
   "execution_count": null,
   "metadata": {},
   "outputs": [],
   "source": [
    "# Load and view data, total 7 data tables\n",
    "# 1. SKUs Data\n",
    "skus = pd.read_csv('sku_data.csv')\n",
    "# 2. Users data\n",
    "users = pd.read_csv('user_data.csv')\n",
    "# 3. Order data\n",
    "orders = pd.read_csv('order_data.csv')\n",
    "# 4. Click data\n",
    "clicks = pd.read_csv('click_data.csv')\n",
    "# 5. Delivery data\n",
    "delivery = pd.read_csv('delivery_data.csv')\n",
    "# 6. Inventory data\n",
    "inventory = pd.read_csv('inventory_data.csv')\n",
    "# 7. Network data\n",
    "network = pd.read_csv('network_data.csv')"
   ]
  },
  {
   "cell_type": "code",
   "execution_count": null,
   "metadata": {},
   "outputs": [],
   "source": [
    "# Sample of skus data\n",
    "print(\"size = {}\\nShape = {}\".format(skus.size, skus.shape))\n",
    "print(skus.columns)"
   ]
  },
  {
   "cell_type": "code",
   "execution_count": null,
   "metadata": {},
   "outputs": [],
   "source": [
    "skus.head()"
   ]
  },
  {
   "cell_type": "code",
   "execution_count": null,
   "metadata": {},
   "outputs": [],
   "source": [
    "skus['brand_ID'].unique().size"
   ]
  },
  {
   "cell_type": "code",
   "execution_count": null,
   "metadata": {},
   "outputs": [],
   "source": [
    " # Sample of users data\n",
    "users.head()"
   ]
  },
  {
   "cell_type": "code",
   "execution_count": null,
   "metadata": {},
   "outputs": [],
   "source": [
    " # Sample of clicks data\n",
    "clicks.head()"
   ]
  },
  {
   "cell_type": "code",
   "execution_count": null,
   "metadata": {},
   "outputs": [],
   "source": [
    " # Sample of orders data\n",
    "orders.head().T"
   ]
  },
  {
   "cell_type": "code",
   "execution_count": null,
   "metadata": {},
   "outputs": [],
   "source": [
    "orders['sku_ID'].unique().size"
   ]
  },
  {
   "cell_type": "code",
   "execution_count": null,
   "metadata": {},
   "outputs": [],
   "source": [
    "# Sample of delivery data\n",
    "delivery.head()"
   ]
  },
  {
   "cell_type": "code",
   "execution_count": null,
   "metadata": {},
   "outputs": [],
   "source": [
    "# Sample of inventory data\n",
    "inventory.head()"
   ]
  },
  {
   "cell_type": "code",
   "execution_count": null,
   "metadata": {},
   "outputs": [],
   "source": [
    "# Sample of network data\n",
    "network.head()"
   ]
  },
  {
   "cell_type": "code",
   "execution_count": null,
   "metadata": {},
   "outputs": [],
   "source": [
    "# Let's explore the data further by looking at the full customer experience of a random customer\n",
    "orders[orders['order_ID']=='81a6fa818d'].T"
   ]
  },
  {
   "cell_type": "code",
   "execution_count": null,
   "metadata": {},
   "outputs": [],
   "source": [
    "# Let's look at the customer with user_ID = '2c511cbd9e' from users table\n",
    "users[users['user_ID'] == '2c511cbd9e']"
   ]
  },
  {
   "cell_type": "code",
   "execution_count": null,
   "metadata": {},
   "outputs": [],
   "source": [
    "# Next let's check sku information from skus table\n",
    "skus[skus['sku_ID'].isin(['ac61f4e10e', 'eb3f2d2fd8'])]"
   ]
  },
  {
   "cell_type": "code",
   "execution_count": null,
   "metadata": {},
   "outputs": [],
   "source": [
    "# clicks table provides further information on the roadmap leading to this purchase\n",
    "clicks[clicks['sku_ID']=='eb3f2d2fd8']"
   ]
  },
  {
   "cell_type": "code",
   "execution_count": null,
   "metadata": {},
   "outputs": [],
   "source": [
    "clicks['request_date'] = clicks['request_time'].str.split(expand=True)[0]"
   ]
  },
  {
   "cell_type": "code",
   "execution_count": null,
   "metadata": {},
   "outputs": [],
   "source": [
    "clicks.head()"
   ]
  },
  {
   "cell_type": "code",
   "execution_count": null,
   "metadata": {},
   "outputs": [],
   "source": [
    "# clicks table provides further information on the roadmap leading to this purchase\n",
    "clicks[(clicks['sku_ID']=='eb3f2d2fd8') & (clicks['request_date']=='2018-03-01')]"
   ]
  },
  {
   "cell_type": "code",
   "execution_count": null,
   "metadata": {},
   "outputs": [],
   "source": [
    "# Next we look at how the order is fullfilled for this curtomer\n",
    "orders[orders['order_ID']=='81a6fa818d'][['sku_ID', 'dc_ori', 'dc_des']]"
   ]
  },
  {
   "cell_type": "code",
   "execution_count": null,
   "metadata": {},
   "outputs": [],
   "source": [
    "# delivery table provides additional information\n",
    "delivery[delivery['order_ID']=='81a6fa818d']"
   ]
  },
  {
   "cell_type": "code",
   "execution_count": null,
   "metadata": {},
   "outputs": [],
   "source": [
    "# inventory table provides more insights on the fulfillment logic\n",
    "inventory[(inventory['sku_ID'].isin(['ac61f4e10e', 'eb3f2d2fd8'])) & \\\n",
    "         (inventory['date']=='2018-03-01') & (inventory['dc_ID']==9)]"
   ]
  },
  {
   "cell_type": "code",
   "execution_count": null,
   "metadata": {},
   "outputs": [],
   "source": [
    "# inventory table provides more insights on the fulfillment logic\n",
    "inventory[(inventory['sku_ID'].isin(['ac61f4e10e', 'eb3f2d2fd8'])) & \\\n",
    "         (inventory['date']=='2018-03-01') & (inventory['dc_ID']==27)]"
   ]
  },
  {
   "cell_type": "code",
   "execution_count": null,
   "metadata": {},
   "outputs": [],
   "source": [
    "orders[(orders['sku_ID']=='ac61f4e10e') & (orders['order_date']=='2018-03-01')]"
   ]
  },
  {
   "cell_type": "code",
   "execution_count": null,
   "metadata": {},
   "outputs": [],
   "source": [
    "orders.shape"
   ]
  },
  {
   "cell_type": "code",
   "execution_count": null,
   "metadata": {},
   "outputs": [],
   "source": [
    "# Create new date frame with relevant features of an order\n",
    "orders1 = orders[orders['original_unit_price']!=0][['sku_ID','order_date','quantity',\n",
    "                  'original_unit_price','final_unit_price',\n",
    "                  'direct_discount_per_unit','quantity_discount_per_unit',\n",
    "                 'bundle_discount_per_unit', 'coupon_discount_per_unit']]\n",
    "orders1.head()"
   ]
  },
  {
   "cell_type": "code",
   "execution_count": null,
   "metadata": {},
   "outputs": [],
   "source": [
    "# Aggregrate sales by sku_ID and order_date\n",
    "orders2 = orders1.groupby(['order_date', 'sku_ID'], as_index=False).agg('sum').rename(columns={\n",
    "    'quantity':'total_quantity',\n",
    "    'original_unit_price':'original_total_price',\n",
    "    'final_unit_price':'final_total_price',\n",
    "    'direct_discount_per_unit':'direct_discount_total',\n",
    "    'quantity_discount_per_unit':'quantity_discount_total',\n",
    "    'bundle_discount_per_unit':'bundle_discount_total',\n",
    "    'coupon_discount_per_unit':'coupon_discount_total'\n",
    "})\n",
    "orders2.shape"
   ]
  },
  {
   "cell_type": "code",
   "execution_count": null,
   "metadata": {},
   "outputs": [],
   "source": [
    "orders2.head(10)"
   ]
  },
  {
   "cell_type": "code",
   "execution_count": null,
   "metadata": {},
   "outputs": [],
   "source": [
    "orders2['avg_original_unit_price'] = orders2['original_total_price']/orders2['total_quantity']\n",
    "orders2['avg_final_unit_price'] = orders2['final_total_price']/orders2['total_quantity']"
   ]
  },
  {
   "cell_type": "code",
   "execution_count": null,
   "metadata": {},
   "outputs": [],
   "source": [
    "orders2.head(10)"
   ]
  },
  {
   "cell_type": "code",
   "execution_count": null,
   "metadata": {},
   "outputs": [],
   "source": [
    "sku_01326007f9 = orders2[orders2['sku_ID']=='01326007f9'][['total_quantity','avg_final_unit_price']]"
   ]
  },
  {
   "cell_type": "code",
   "execution_count": null,
   "metadata": {},
   "outputs": [],
   "source": [
    "plt.plot(sku_01326007f9['avg_final_unit_price'], sku_01326007f9['total_quantity'],'ro')\n",
    "plt.show()"
   ]
  },
  {
   "cell_type": "code",
   "execution_count": null,
   "metadata": {},
   "outputs": [],
   "source": []
  }
 ],
 "metadata": {
  "kernelspec": {
   "display_name": "Python 3",
   "language": "python",
   "name": "python3"
  },
  "language_info": {
   "codemirror_mode": {
    "name": "ipython",
    "version": 3
   },
   "file_extension": ".py",
   "mimetype": "text/x-python",
   "name": "python",
   "nbconvert_exporter": "python",
   "pygments_lexer": "ipython3",
   "version": "3.7.7"
  }
 },
 "nbformat": 4,
 "nbformat_minor": 4
}
